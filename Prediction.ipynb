{
 "cells": [
  {
   "cell_type": "code",
   "execution_count": 1,
   "metadata": {},
   "outputs": [],
   "source": [
    "import pandas as pd\n",
    "import numpy as np\n",
    "import statsmodels.api as sm\n",
    "from sklearn.linear_model import LinearRegression\n",
    "import matplotlib.pyplot as plt\n",
    "import seaborn as sns\n",
    "from scipy import stats\n",
    "from sklearn.pipeline import Pipeline\n",
    "from sklearn.preprocessing import StandardScaler\n",
    "from sklearn.preprocessing import PolynomialFeatures\n",
    "from sklearn.metrics import r2_score\n",
    "from sklearn.metrics import mean_squared_error"
   ]
  },
  {
   "cell_type": "code",
   "execution_count": 3,
   "metadata": {},
   "outputs": [],
   "source": [
    "df = pd.read_csv(r\"C:\\Users\\Shaunak\\Documents\\Stats.csv\")"
   ]
  },
  {
   "cell_type": "code",
   "execution_count": 4,
   "metadata": {},
   "outputs": [
    {
     "data": {
      "text/html": [
       "<div>\n",
       "<style scoped>\n",
       "    .dataframe tbody tr th:only-of-type {\n",
       "        vertical-align: middle;\n",
       "    }\n",
       "\n",
       "    .dataframe tbody tr th {\n",
       "        vertical-align: top;\n",
       "    }\n",
       "\n",
       "    .dataframe thead th {\n",
       "        text-align: right;\n",
       "    }\n",
       "</style>\n",
       "<table border=\"1\" class=\"dataframe\">\n",
       "  <thead>\n",
       "    <tr style=\"text-align: right;\">\n",
       "      <th></th>\n",
       "      <th>Date</th>\n",
       "      <th>RepPosPer</th>\n",
       "      <th>RepNegPer</th>\n",
       "      <th>DemPosPer</th>\n",
       "      <th>DemNegPer</th>\n",
       "      <th>TrumpRating</th>\n",
       "      <th>BidenRating</th>\n",
       "    </tr>\n",
       "  </thead>\n",
       "  <tbody>\n",
       "    <tr>\n",
       "      <th>0</th>\n",
       "      <td>1/07/2020</td>\n",
       "      <td>0.361956</td>\n",
       "      <td>0.490198</td>\n",
       "      <td>0.098955</td>\n",
       "      <td>0.048891</td>\n",
       "      <td>0.403</td>\n",
       "      <td>0.497</td>\n",
       "    </tr>\n",
       "    <tr>\n",
       "      <th>1</th>\n",
       "      <td>2/07/2020</td>\n",
       "      <td>0.412111</td>\n",
       "      <td>0.459101</td>\n",
       "      <td>0.077376</td>\n",
       "      <td>0.051413</td>\n",
       "      <td>0.400</td>\n",
       "      <td>0.493</td>\n",
       "    </tr>\n",
       "    <tr>\n",
       "      <th>2</th>\n",
       "      <td>3/07/2020</td>\n",
       "      <td>0.479208</td>\n",
       "      <td>0.430253</td>\n",
       "      <td>0.048030</td>\n",
       "      <td>0.042510</td>\n",
       "      <td>0.405</td>\n",
       "      <td>0.493</td>\n",
       "    </tr>\n",
       "    <tr>\n",
       "      <th>3</th>\n",
       "      <td>4/07/2020</td>\n",
       "      <td>0.535767</td>\n",
       "      <td>0.379203</td>\n",
       "      <td>0.042914</td>\n",
       "      <td>0.042116</td>\n",
       "      <td>0.409</td>\n",
       "      <td>0.496</td>\n",
       "    </tr>\n",
       "    <tr>\n",
       "      <th>4</th>\n",
       "      <td>5/07/2020</td>\n",
       "      <td>0.432357</td>\n",
       "      <td>0.433766</td>\n",
       "      <td>0.077119</td>\n",
       "      <td>0.056757</td>\n",
       "      <td>0.409</td>\n",
       "      <td>0.496</td>\n",
       "    </tr>\n",
       "  </tbody>\n",
       "</table>\n",
       "</div>"
      ],
      "text/plain": [
       "        Date  RepPosPer  RepNegPer  DemPosPer  DemNegPer  TrumpRating  \\\n",
       "0  1/07/2020   0.361956   0.490198   0.098955   0.048891        0.403   \n",
       "1  2/07/2020   0.412111   0.459101   0.077376   0.051413        0.400   \n",
       "2  3/07/2020   0.479208   0.430253   0.048030   0.042510        0.405   \n",
       "3  4/07/2020   0.535767   0.379203   0.042914   0.042116        0.409   \n",
       "4  5/07/2020   0.432357   0.433766   0.077119   0.056757        0.409   \n",
       "\n",
       "   BidenRating  \n",
       "0        0.497  \n",
       "1        0.493  \n",
       "2        0.493  \n",
       "3        0.496  \n",
       "4        0.496  "
      ]
     },
     "execution_count": 4,
     "metadata": {},
     "output_type": "execute_result"
    }
   ],
   "source": [
    "df.head()"
   ]
  },
  {
   "cell_type": "code",
   "execution_count": 5,
   "metadata": {},
   "outputs": [
    {
     "data": {
      "text/html": [
       "<div>\n",
       "<style scoped>\n",
       "    .dataframe tbody tr th:only-of-type {\n",
       "        vertical-align: middle;\n",
       "    }\n",
       "\n",
       "    .dataframe tbody tr th {\n",
       "        vertical-align: top;\n",
       "    }\n",
       "\n",
       "    .dataframe thead th {\n",
       "        text-align: right;\n",
       "    }\n",
       "</style>\n",
       "<table border=\"1\" class=\"dataframe\">\n",
       "  <thead>\n",
       "    <tr style=\"text-align: right;\">\n",
       "      <th></th>\n",
       "      <th>RepPosPer</th>\n",
       "      <th>RepNegPer</th>\n",
       "      <th>DemPosPer</th>\n",
       "      <th>DemNegPer</th>\n",
       "      <th>TrumpRating</th>\n",
       "      <th>BidenRating</th>\n",
       "    </tr>\n",
       "  </thead>\n",
       "  <tbody>\n",
       "    <tr>\n",
       "      <th>count</th>\n",
       "      <td>111.000000</td>\n",
       "      <td>111.000000</td>\n",
       "      <td>111.000000</td>\n",
       "      <td>111.000000</td>\n",
       "      <td>111.000000</td>\n",
       "      <td>111.000000</td>\n",
       "    </tr>\n",
       "    <tr>\n",
       "      <th>mean</th>\n",
       "      <td>0.394303</td>\n",
       "      <td>0.400115</td>\n",
       "      <td>0.117451</td>\n",
       "      <td>0.088130</td>\n",
       "      <td>0.422162</td>\n",
       "      <td>0.500784</td>\n",
       "    </tr>\n",
       "    <tr>\n",
       "      <th>std</th>\n",
       "      <td>0.046434</td>\n",
       "      <td>0.056090</td>\n",
       "      <td>0.046909</td>\n",
       "      <td>0.035378</td>\n",
       "      <td>0.009625</td>\n",
       "      <td>0.008268</td>\n",
       "    </tr>\n",
       "    <tr>\n",
       "      <th>min</th>\n",
       "      <td>0.286441</td>\n",
       "      <td>0.247888</td>\n",
       "      <td>0.041495</td>\n",
       "      <td>0.037621</td>\n",
       "      <td>0.400000</td>\n",
       "      <td>0.489000</td>\n",
       "    </tr>\n",
       "    <tr>\n",
       "      <th>25%</th>\n",
       "      <td>0.365909</td>\n",
       "      <td>0.354509</td>\n",
       "      <td>0.081614</td>\n",
       "      <td>0.062319</td>\n",
       "      <td>0.416500</td>\n",
       "      <td>0.495000</td>\n",
       "    </tr>\n",
       "    <tr>\n",
       "      <th>50%</th>\n",
       "      <td>0.397644</td>\n",
       "      <td>0.405673</td>\n",
       "      <td>0.107285</td>\n",
       "      <td>0.080437</td>\n",
       "      <td>0.424000</td>\n",
       "      <td>0.498000</td>\n",
       "    </tr>\n",
       "    <tr>\n",
       "      <th>75%</th>\n",
       "      <td>0.423174</td>\n",
       "      <td>0.437793</td>\n",
       "      <td>0.145438</td>\n",
       "      <td>0.111144</td>\n",
       "      <td>0.429000</td>\n",
       "      <td>0.507000</td>\n",
       "    </tr>\n",
       "    <tr>\n",
       "      <th>max</th>\n",
       "      <td>0.535767</td>\n",
       "      <td>0.520823</td>\n",
       "      <td>0.273342</td>\n",
       "      <td>0.183441</td>\n",
       "      <td>0.442000</td>\n",
       "      <td>0.521000</td>\n",
       "    </tr>\n",
       "  </tbody>\n",
       "</table>\n",
       "</div>"
      ],
      "text/plain": [
       "        RepPosPer   RepNegPer   DemPosPer   DemNegPer  TrumpRating  \\\n",
       "count  111.000000  111.000000  111.000000  111.000000   111.000000   \n",
       "mean     0.394303    0.400115    0.117451    0.088130     0.422162   \n",
       "std      0.046434    0.056090    0.046909    0.035378     0.009625   \n",
       "min      0.286441    0.247888    0.041495    0.037621     0.400000   \n",
       "25%      0.365909    0.354509    0.081614    0.062319     0.416500   \n",
       "50%      0.397644    0.405673    0.107285    0.080437     0.424000   \n",
       "75%      0.423174    0.437793    0.145438    0.111144     0.429000   \n",
       "max      0.535767    0.520823    0.273342    0.183441     0.442000   \n",
       "\n",
       "       BidenRating  \n",
       "count   111.000000  \n",
       "mean      0.500784  \n",
       "std       0.008268  \n",
       "min       0.489000  \n",
       "25%       0.495000  \n",
       "50%       0.498000  \n",
       "75%       0.507000  \n",
       "max       0.521000  "
      ]
     },
     "execution_count": 5,
     "metadata": {},
     "output_type": "execute_result"
    }
   ],
   "source": [
    "df.describe()"
   ]
  },
  {
   "cell_type": "code",
   "execution_count": 6,
   "metadata": {},
   "outputs": [
    {
     "data": {
      "text/html": [
       "<div>\n",
       "<style scoped>\n",
       "    .dataframe tbody tr th:only-of-type {\n",
       "        vertical-align: middle;\n",
       "    }\n",
       "\n",
       "    .dataframe tbody tr th {\n",
       "        vertical-align: top;\n",
       "    }\n",
       "\n",
       "    .dataframe thead th {\n",
       "        text-align: right;\n",
       "    }\n",
       "</style>\n",
       "<table border=\"1\" class=\"dataframe\">\n",
       "  <thead>\n",
       "    <tr style=\"text-align: right;\">\n",
       "      <th></th>\n",
       "      <th>RepPosPer</th>\n",
       "      <th>RepNegPer</th>\n",
       "      <th>DemPosPer</th>\n",
       "      <th>DemNegPer</th>\n",
       "      <th>TrumpRating</th>\n",
       "      <th>BidenRating</th>\n",
       "    </tr>\n",
       "  </thead>\n",
       "  <tbody>\n",
       "    <tr>\n",
       "      <th>RepPosPer</th>\n",
       "      <td>1.000000</td>\n",
       "      <td>0.139983</td>\n",
       "      <td>-0.634892</td>\n",
       "      <td>-0.692609</td>\n",
       "      <td>-0.237910</td>\n",
       "      <td>-0.269560</td>\n",
       "    </tr>\n",
       "    <tr>\n",
       "      <th>RepNegPer</th>\n",
       "      <td>0.139983</td>\n",
       "      <td>1.000000</td>\n",
       "      <td>-0.800872</td>\n",
       "      <td>-0.707264</td>\n",
       "      <td>-0.532496</td>\n",
       "      <td>-0.327876</td>\n",
       "    </tr>\n",
       "    <tr>\n",
       "      <th>DemPosPer</th>\n",
       "      <td>-0.634892</td>\n",
       "      <td>-0.800872</td>\n",
       "      <td>1.000000</td>\n",
       "      <td>0.777094</td>\n",
       "      <td>0.471878</td>\n",
       "      <td>0.420316</td>\n",
       "    </tr>\n",
       "    <tr>\n",
       "      <th>DemNegPer</th>\n",
       "      <td>-0.692609</td>\n",
       "      <td>-0.707264</td>\n",
       "      <td>0.777094</td>\n",
       "      <td>1.000000</td>\n",
       "      <td>0.530819</td>\n",
       "      <td>0.316312</td>\n",
       "    </tr>\n",
       "    <tr>\n",
       "      <th>TrumpRating</th>\n",
       "      <td>-0.237910</td>\n",
       "      <td>-0.532496</td>\n",
       "      <td>0.471878</td>\n",
       "      <td>0.530819</td>\n",
       "      <td>1.000000</td>\n",
       "      <td>0.287299</td>\n",
       "    </tr>\n",
       "    <tr>\n",
       "      <th>BidenRating</th>\n",
       "      <td>-0.269560</td>\n",
       "      <td>-0.327876</td>\n",
       "      <td>0.420316</td>\n",
       "      <td>0.316312</td>\n",
       "      <td>0.287299</td>\n",
       "      <td>1.000000</td>\n",
       "    </tr>\n",
       "  </tbody>\n",
       "</table>\n",
       "</div>"
      ],
      "text/plain": [
       "             RepPosPer  RepNegPer  DemPosPer  DemNegPer  TrumpRating  \\\n",
       "RepPosPer     1.000000   0.139983  -0.634892  -0.692609    -0.237910   \n",
       "RepNegPer     0.139983   1.000000  -0.800872  -0.707264    -0.532496   \n",
       "DemPosPer    -0.634892  -0.800872   1.000000   0.777094     0.471878   \n",
       "DemNegPer    -0.692609  -0.707264   0.777094   1.000000     0.530819   \n",
       "TrumpRating  -0.237910  -0.532496   0.471878   0.530819     1.000000   \n",
       "BidenRating  -0.269560  -0.327876   0.420316   0.316312     0.287299   \n",
       "\n",
       "             BidenRating  \n",
       "RepPosPer      -0.269560  \n",
       "RepNegPer      -0.327876  \n",
       "DemPosPer       0.420316  \n",
       "DemNegPer       0.316312  \n",
       "TrumpRating     0.287299  \n",
       "BidenRating     1.000000  "
      ]
     },
     "execution_count": 6,
     "metadata": {},
     "output_type": "execute_result"
    }
   ],
   "source": [
    "df.corr()"
   ]
  },
  {
   "cell_type": "code",
   "execution_count": 7,
   "metadata": {},
   "outputs": [
    {
     "data": {
      "text/plain": [
       "<matplotlib.axes._subplots.AxesSubplot at 0x28dc5d03688>"
      ]
     },
     "execution_count": 7,
     "metadata": {},
     "output_type": "execute_result"
    },
    {
     "data": {
      "image/png": "[encoded data removed]",
      "text/plain": [
       "<Figure size 432x288 with 1 Axes>"
      ]
     },
     "metadata": {
      "needs_background": "light"
     },
     "output_type": "display_data"
    }
   ],
   "source": [
    "sns.regplot(x=\"RepNegPer\", y=\"TrumpRating\", data=df)"
   ]
  },
  {
   "cell_type": "code",
   "execution_count": 8,
   "metadata": {},
   "outputs": [
    {
     "data": {
      "text/plain": [
       "<matplotlib.axes._subplots.AxesSubplot at 0x28dc65c79c8>"
      ]
     },
     "execution_count": 8,
     "metadata": {},
     "output_type": "execute_result"
    },
    {
     "data": {
      "image/png": "[encoded data removed]",
      "text/plain": [
       "<Figure size 432x288 with 1 Axes>"
      ]
     },
     "metadata": {
      "needs_background": "light"
     },
     "output_type": "display_data"
    }
   ],
   "source": [
    "sns.residplot(x=\"RepNegPer\", y=\"TrumpRating\", data=df)"
   ]
  },
  {
   "cell_type": "code",
   "execution_count": 9,
   "metadata": {},
   "outputs": [
    {
     "data": {
      "text/plain": [
       "<matplotlib.axes._subplots.AxesSubplot at 0x28dc66a6e88>"
      ]
     },
     "execution_count": 9,
     "metadata": {},
     "output_type": "execute_result"
    },
    {
     "data": {
      "image/png": "[encoded data removed]",
      "text/plain": [
       "<Figure size 432x288 with 1 Axes>"
      ]
     },
     "metadata": {
      "needs_background": "light"
     },
     "output_type": "display_data"
    }
   ],
   "source": [
    "sns.regplot(x=\"DemNegPer\", y=\"TrumpRating\", data=df)"
   ]
  },
  {
   "cell_type": "code",
   "execution_count": 10,
   "metadata": {},
   "outputs": [
    {
     "data": {
      "text/plain": [
       "<matplotlib.axes._subplots.AxesSubplot at 0x28dc66fed48>"
      ]
     },
     "execution_count": 10,
     "metadata": {},
     "output_type": "execute_result"
    },
    {
     "data": {
      "image/png": "[encoded data removed]",
      "text/plain": [
       "<Figure size 432x288 with 1 Axes>"
      ]
     },
     "metadata": {
      "needs_background": "light"
     },
     "output_type": "display_data"
    }
   ],
   "source": [
    "sns.residplot(x=\"DemNegPer\", y=\"TrumpRating\", data=df)"
   ]
  },
  {
   "cell_type": "code",
   "execution_count": 12,
   "metadata": {},
   "outputs": [
    {
     "name": "stdout",
     "output_type": "stream",
     "text": [
      "The Pearson Correlation Coefficient is -0.23790987785156822  with a P-value of P = 0.011924375944301216\n"
     ]
    }
   ],
   "source": [
    "pearson_coef, p_value = stats.pearsonr(df['RepPosPer'], df['TrumpRating'])\n",
    "print(\"The Pearson Correlation Coefficient is\", pearson_coef, \" with a P-value of P =\", p_value)"
   ]
  },
  {
   "cell_type": "code",
   "execution_count": 13,
   "metadata": {},
   "outputs": [
    {
     "name": "stdout",
     "output_type": "stream",
     "text": [
      "The Pearson Correlation Coefficient is -0.532496240022111  with a P-value of P = 1.7950803398551001e-09\n"
     ]
    }
   ],
   "source": [
    "pearson_coef, p_value = stats.pearsonr(df['RepNegPer'], df['TrumpRating'])\n",
    "print(\"The Pearson Correlation Coefficient is\", pearson_coef, \" with a P-value of P =\", p_value)"
   ]
  },
  {
   "cell_type": "code",
   "execution_count": 14,
   "metadata": {},
   "outputs": [
    {
     "name": "stdout",
     "output_type": "stream",
     "text": [
      "The Pearson Correlation Coefficient is 0.47187813395981226  with a P-value of P = 1.71273496592331e-07\n"
     ]
    }
   ],
   "source": [
    "pearson_coef, p_value = stats.pearsonr(df['DemPosPer'], df['TrumpRating'])\n",
    "print(\"The Pearson Correlation Coefficient is\", pearson_coef, \" with a P-value of P =\", p_value)"
   ]
  },
  {
   "cell_type": "code",
   "execution_count": 15,
   "metadata": {},
   "outputs": [
    {
     "name": "stdout",
     "output_type": "stream",
     "text": [
      "The Pearson Correlation Coefficient is 0.5308185892802515  with a P-value of P = 2.061746733079629e-09\n"
     ]
    }
   ],
   "source": [
    "\n",
    "pearson_coef, p_value = stats.pearsonr(df['DemNegPer'], df['TrumpRating'])\n",
    "print(\"The Pearson Correlation Coefficient is\", pearson_coef, \" with a P-value of P =\", p_value)"
   ]
  },
  {
   "cell_type": "code",
   "execution_count": 16,
   "metadata": {},
   "outputs": [
    {
     "name": "stdout",
     "output_type": "stream",
     "text": [
      "The Pearson Correlation Coefficient is -0.269559806520778  with a P-value of P = 0.004223088190939446\n"
     ]
    }
   ],
   "source": [
    "pearson_coef, p_value = stats.pearsonr(df['RepPosPer'], df['BidenRating'])\n",
    "print(\"The Pearson Correlation Coefficient is\", pearson_coef, \" with a P-value of P =\", p_value)"
   ]
  },
  {
   "cell_type": "code",
   "execution_count": 17,
   "metadata": {},
   "outputs": [
    {
     "name": "stdout",
     "output_type": "stream",
     "text": [
      "The Pearson Correlation Coefficient is -0.32787553738950104  with a P-value of P = 0.0004432294573348107\n"
     ]
    }
   ],
   "source": [
    "pearson_coef, p_value = stats.pearsonr(df['RepNegPer'], df['BidenRating'])\n",
    "print(\"The Pearson Correlation Coefficient is\", pearson_coef, \" with a P-value of P =\", p_value)"
   ]
  },
  {
   "cell_type": "code",
   "execution_count": 18,
   "metadata": {},
   "outputs": [
    {
     "name": "stdout",
     "output_type": "stream",
     "text": [
      "The Pearson Correlation Coefficient is 0.42031622824044257  with a P-value of P = 4.37423363306262e-06\n"
     ]
    }
   ],
   "source": [
    "pearson_coef, p_value = stats.pearsonr(df['DemPosPer'], df['BidenRating'])\n",
    "print(\"The Pearson Correlation Coefficient is\", pearson_coef, \" with a P-value of P =\", p_value)"
   ]
  },
  {
   "cell_type": "code",
   "execution_count": 19,
   "metadata": {},
   "outputs": [
    {
     "name": "stdout",
     "output_type": "stream",
     "text": [
      "The Pearson Correlation Coefficient is 0.31631164466592443  with a P-value of P = 0.0007193409289399342\n"
     ]
    }
   ],
   "source": [
    "pearson_coef, p_value = stats.pearsonr(df['DemNegPer'], df['BidenRating'])\n",
    "print(\"The Pearson Correlation Coefficient is\", pearson_coef, \" with a P-value of P =\", p_value)"
   ]
  },
  {
   "cell_type": "code",
   "execution_count": 20,
   "metadata": {},
   "outputs": [
    {
     "name": "stdout",
     "output_type": "stream",
     "text": [
      "The R-square is:  0.17666573172227207\n"
     ]
    }
   ],
   "source": [
    "lm = LinearRegression()\n",
    "lm.fit(df[['DemPosPer']], df['BidenRating'])\n",
    "print('The R-square is: ', lm.score(df[['DemPosPer']], df['BidenRating']))"
   ]
  },
  {
   "cell_type": "code",
   "execution_count": null,
   "metadata": {},
   "outputs": [],
   "source": [
    "#p < 0.05, there is significant correlation, but linear regression is not strong enough."
   ]
  },
  {
   "cell_type": "code",
   "execution_count": 21,
   "metadata": {},
   "outputs": [],
   "source": [
    "lmT = LinearRegression()\n",
    "lmB = LinearRegression()\n",
    "Z = df[['RepPosPer', 'RepNegPer', 'DemPosPer', 'DemNegPer']]"
   ]
  },
  {
   "cell_type": "code",
   "execution_count": 22,
   "metadata": {},
   "outputs": [
    {
     "name": "stdout",
     "output_type": "stream",
     "text": [
      "174272.32236586686\n",
      "[-174271.8825291  -174271.94260533 -174271.89703128 -174271.79098688]\n",
      "The R-square is:  0.33266435499886826\n"
     ]
    }
   ],
   "source": [
    "lmT.fit(Z, df['TrumpRating'])\n",
    "print(lmT.intercept_)\n",
    "print(lmT.coef_)\n",
    "print('The R-square is: ', lmT.score(Z, df['TrumpRating']))"
   ]
  },
  {
   "cell_type": "code",
   "execution_count": null,
   "metadata": {},
   "outputs": [],
   "source": [
    "#TrumpRating = 174272.33 + (-174271.89RepPosPer) + (-174271.95RepNegPer) + (-174271.90DemPosPer) + (-174271.79DemNegPer)"
   ]
  },
  {
   "cell_type": "code",
   "execution_count": 23,
   "metadata": {},
   "outputs": [
    {
     "name": "stdout",
     "output_type": "stream",
     "text": [
      "8677.922071595804\n",
      "[-8677.43134105 -8677.42850631 -8677.35153112 -8677.43650039]\n",
      "The R-square is:  0.1770600260792572\n"
     ]
    }
   ],
   "source": [
    "lmB.fit(Z, df['BidenRating'])\n",
    "print(lmB.intercept_)\n",
    "print(lmB.coef_)\n",
    "print('The R-square is: ', lmB.score(Z, df['BidenRating']))"
   ]
  },
  {
   "cell_type": "code",
   "execution_count": 25,
   "metadata": {},
   "outputs": [],
   "source": [
    "#BidenRating = 8677.92 + (-8677.43RepPosPer) + (-8677.43RepNegPer) + (-8677.35DemPosPer) + (-8677.43DemNegPer)"
   ]
  },
  {
   "cell_type": "code",
   "execution_count": 26,
   "metadata": {},
   "outputs": [
    {
     "data": {
      "text/plain": [
       "Text(0, 0.5, 'Count')"
      ]
     },
     "execution_count": 26,
     "metadata": {},
     "output_type": "execute_result"
    },
    {
     "data": {
      "image/png": "[encoded data removed]",
      "text/plain": [
       "<Figure size 432x288 with 1 Axes>"
      ]
     },
     "metadata": {
      "needs_background": "light"
     },
     "output_type": "display_data"
    }
   ],
   "source": [
    "Y_hat = lmT.predict(Z)\n",
    "\n",
    "plt.figure\n",
    "\n",
    "ax1 = sns.kdeplot(df['TrumpRating'], color=\"r\", label=\"Actual Value\")\n",
    "sns.kdeplot(Y_hat, color=\"b\", label=\"Fitted Values\", ax = ax1)\n",
    "\n",
    "\n",
    "plt.title('Actual vs Fitted Values for TrumpRating')\n",
    "plt.xlabel('TrumpRating')\n",
    "plt.ylabel('Count')"
   ]
  },
  {
   "cell_type": "code",
   "execution_count": 27,
   "metadata": {},
   "outputs": [
    {
     "name": "stdout",
     "output_type": "stream",
     "text": [
      "The mean square error of price and predicted value is:  6.126911411263132e-05\n"
     ]
    }
   ],
   "source": [
    "mse = mean_squared_error(df['TrumpRating'], Y_hat)\n",
    "print('The mean square error of price and predicted value is: ', mse)"
   ]
  },
  {
   "cell_type": "code",
   "execution_count": 28,
   "metadata": {},
   "outputs": [
    {
     "data": {
      "text/plain": [
       "Text(0, 0.5, 'Count')"
      ]
     },
     "execution_count": 28,
     "metadata": {},
     "output_type": "execute_result"
    },
    {
     "data": {
      "image/png": "[encoded data removed]",
      "text/plain": [
       "<Figure size 432x288 with 1 Axes>"
      ]
     },
     "metadata": {
      "needs_background": "light"
     },
     "output_type": "display_data"
    }
   ],
   "source": [
    "Y_hat = lmB.predict(Z)\n",
    "\n",
    "plt.figure\n",
    "\n",
    "ax1 = sns.kdeplot(df['BidenRating'], color=\"r\", label=\"Actual Value\")\n",
    "sns.kdeplot(Y_hat, color=\"b\", label=\"Fitted Values\", ax = ax1)\n",
    "\n",
    "\n",
    "plt.title('Actual vs Fitted Values for BidenRating')\n",
    "plt.xlabel('BidenRating')\n",
    "plt.ylabel('Count')\n"
   ]
  },
  {
   "cell_type": "code",
   "execution_count": 29,
   "metadata": {},
   "outputs": [
    {
     "name": "stdout",
     "output_type": "stream",
     "text": [
      "The mean square error of price and predicted value is:  5.5743513266339225e-05\n"
     ]
    }
   ],
   "source": [
    "mse = mean_squared_error(df['BidenRating'], Y_hat)\n",
    "print('The mean square error of price and predicted value is: ', mse)"
   ]
  },
  {
   "cell_type": "code",
   "execution_count": 30,
   "metadata": {},
   "outputs": [],
   "source": [
    "def PlotPolly(model, independent_variable, dependent_variabble, Name):\n",
    "    x_new = np.linspace(15, 55, 100)\n",
    "    y_new = model(x_new)\n",
    "\n",
    "    plt.plot(independent_variable, dependent_variabble, '.', x_new, y_new, '-')\n",
    "    plt.title('Polynomial Fit with Matplotlib')\n",
    "    ax = plt.gca()\n",
    "    ax.set_facecolor((0.898, 0.898, 0.898))\n",
    "    fig = plt.gcf()\n",
    "    plt.xlabel(Name)\n",
    "    plt.ylabel('Ratings')"
   ]
  },
  {
   "cell_type": "code",
   "execution_count": 31,
   "metadata": {},
   "outputs": [
    {
     "data": {
      "text/plain": [
       "PolynomialFeatures(degree=2, include_bias=True, interaction_only=False,\n",
       "                   order='C')"
      ]
     },
     "execution_count": 31,
     "metadata": {},
     "output_type": "execute_result"
    }
   ],
   "source": [
    "pr=PolynomialFeatures(degree=2)\n",
    "pr"
   ]
  },
  {
   "cell_type": "code",
   "execution_count": 32,
   "metadata": {},
   "outputs": [],
   "source": [
    "Z_pr=pr.fit_transform(Z)"
   ]
  },
  {
   "cell_type": "code",
   "execution_count": 33,
   "metadata": {},
   "outputs": [
    {
     "data": {
      "text/plain": [
       "(111, 4)"
      ]
     },
     "execution_count": 33,
     "metadata": {},
     "output_type": "execute_result"
    }
   ],
   "source": [
    "Z.shape"
   ]
  },
  {
   "cell_type": "code",
   "execution_count": 34,
   "metadata": {},
   "outputs": [
    {
     "data": {
      "text/plain": [
       "(111, 15)"
      ]
     },
     "execution_count": 34,
     "metadata": {},
     "output_type": "execute_result"
    }
   ],
   "source": [
    "Z_pr.shape\n"
   ]
  },
  {
   "cell_type": "code",
   "execution_count": 35,
   "metadata": {},
   "outputs": [],
   "source": [
    "Input=[('scale',StandardScaler()), ('polynomial', PolynomialFeatures(include_bias=False)), ('model',LinearRegression())]"
   ]
  },
  {
   "cell_type": "code",
   "execution_count": 36,
   "metadata": {},
   "outputs": [
    {
     "data": {
      "text/plain": [
       "Pipeline(memory=None,\n",
       "         steps=[('scale',\n",
       "                 StandardScaler(copy=True, with_mean=True, with_std=True)),\n",
       "                ('polynomial',\n",
       "                 PolynomialFeatures(degree=2, include_bias=False,\n",
       "                                    interaction_only=False, order='C')),\n",
       "                ('model',\n",
       "                 LinearRegression(copy_X=True, fit_intercept=True, n_jobs=None,\n",
       "                                  normalize=False))],\n",
       "         verbose=False)"
      ]
     },
     "execution_count": 36,
     "metadata": {},
     "output_type": "execute_result"
    }
   ],
   "source": [
    "pipe=Pipeline(Input)\n",
    "pipe"
   ]
  },
  {
   "cell_type": "code",
   "execution_count": 37,
   "metadata": {},
   "outputs": [
    {
     "data": {
      "text/plain": [
       "Pipeline(memory=None,\n",
       "         steps=[('scale',\n",
       "                 StandardScaler(copy=True, with_mean=True, with_std=True)),\n",
       "                ('polynomial',\n",
       "                 PolynomialFeatures(degree=2, include_bias=False,\n",
       "                                    interaction_only=False, order='C')),\n",
       "                ('model',\n",
       "                 LinearRegression(copy_X=True, fit_intercept=True, n_jobs=None,\n",
       "                                  normalize=False))],\n",
       "         verbose=False)"
      ]
     },
     "execution_count": 37,
     "metadata": {},
     "output_type": "execute_result"
    }
   ],
   "source": [
    "pipe.fit(Z, df['TrumpRating'])"
   ]
  },
  {
   "cell_type": "code",
   "execution_count": 38,
   "metadata": {},
   "outputs": [
    {
     "data": {
      "text/plain": [
       "array([0.41497984, 0.41291225, 0.40681797, 0.41201792])"
      ]
     },
     "execution_count": 38,
     "metadata": {},
     "output_type": "execute_result"
    }
   ],
   "source": [
    "ypipe=pipe.predict(Z)\n",
    "ypipe[0:4]"
   ]
  },
  {
   "cell_type": "code",
   "execution_count": 39,
   "metadata": {},
   "outputs": [
    {
     "data": {
      "text/plain": [
       "Text(0, 0.5, 'Count')"
      ]
     },
     "execution_count": 39,
     "metadata": {},
     "output_type": "execute_result"
    },
    {
     "data": {
      "image/png": "[encoded data removed]",
      "text/plain": [
       "<Figure size 432x288 with 1 Axes>"
      ]
     },
     "metadata": {
      "needs_background": "light"
     },
     "output_type": "display_data"
    }
   ],
   "source": [
    "plt.figure\n",
    "\n",
    "ax1 = sns.kdeplot(df['TrumpRating'], color=\"r\", label=\"Actual Value\")\n",
    "sns.kdeplot(ypipe, color=\"b\", label=\"Fitted Values\", ax = ax1)\n",
    "\n",
    "\n",
    "plt.title('Actual vs Fitted Values for TrumpRating')\n",
    "plt.xlabel('TrumpRating')\n",
    "plt.ylabel('Count')"
   ]
  },
  {
   "cell_type": "code",
   "execution_count": 40,
   "metadata": {},
   "outputs": [
    {
     "name": "stdout",
     "output_type": "stream",
     "text": [
      "The R-square value is:  0.5926637919478288\n"
     ]
    }
   ],
   "source": [
    "\n",
    "r_squared = r2_score(df['TrumpRating'], ypipe)\n",
    "print('The R-square value is: ', r_squared)"
   ]
  },
  {
   "cell_type": "code",
   "execution_count": 41,
   "metadata": {},
   "outputs": [
    {
     "data": {
      "text/plain": [
       "3.739816507675486e-05"
      ]
     },
     "execution_count": 41,
     "metadata": {},
     "output_type": "execute_result"
    }
   ],
   "source": [
    "mean_squared_error(df['TrumpRating'], ypipe)"
   ]
  },
  {
   "cell_type": "code",
   "execution_count": 42,
   "metadata": {},
   "outputs": [],
   "source": [
    "\n",
    "pipe.fit(Z, df['BidenRating'])\n",
    "ypipe=pipe.predict(Z)"
   ]
  },
  {
   "cell_type": "code",
   "execution_count": 43,
   "metadata": {},
   "outputs": [
    {
     "data": {
      "text/plain": [
       "Text(0, 0.5, 'Count')"
      ]
     },
     "execution_count": 43,
     "metadata": {},
     "output_type": "execute_result"
    },
    {
     "data": {
      "image/png": "[encoded data removed]",
      "text/plain": [
       "<Figure size 432x288 with 1 Axes>"
      ]
     },
     "metadata": {
      "needs_background": "light"
     },
     "output_type": "display_data"
    }
   ],
   "source": [
    "plt.figure\n",
    "\n",
    "ax1 = sns.kdeplot(df['BidenRating'], color=\"r\", label=\"Actual Value\")\n",
    "sns.kdeplot(ypipe, color=\"b\", label=\"Fitted Values\", ax = ax1)\n",
    "\n",
    "\n",
    "plt.title('Actual vs Fitted Values for BidenRating')\n",
    "plt.xlabel('BidenRating')\n",
    "plt.ylabel('Count')"
   ]
  },
  {
   "cell_type": "code",
   "execution_count": 44,
   "metadata": {},
   "outputs": [
    {
     "name": "stdout",
     "output_type": "stream",
     "text": [
      "The R-square value is:  0.33589913663390214\n"
     ]
    }
   ],
   "source": [
    "r_squared = r2_score(df['BidenRating'], ypipe)\n",
    "print('The R-square value is: ', r_squared)"
   ]
  },
  {
   "cell_type": "code",
   "execution_count": 45,
   "metadata": {},
   "outputs": [
    {
     "data": {
      "text/plain": [
       "4.4984222981493826e-05"
      ]
     },
     "execution_count": 45,
     "metadata": {},
     "output_type": "execute_result"
    }
   ],
   "source": [
    "mean_squared_error(df['BidenRating'], ypipe)"
   ]
  },
  {
   "cell_type": "code",
   "execution_count": null,
   "metadata": {},
   "outputs": [],
   "source": []
  }
 ],
 "metadata": {
  "kernelspec": {
   "display_name": "Python 3",
   "language": "python",
   "name": "python3"
  },
  "language_info": {
   "codemirror_mode": {
    "name": "ipython",
    "version": 3
   },
   "file_extension": ".py",
   "mimetype": "text/x-python",
   "name": "python",
   "nbconvert_exporter": "python",
   "pygments_lexer": "ipython3",
   "version": "3.7.6"
  }
 },
 "nbformat": 4,
 "nbformat_minor": 4
}
